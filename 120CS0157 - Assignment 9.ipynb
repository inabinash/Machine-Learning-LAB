{
 "cells": [
  {
   "cell_type": "markdown",
   "metadata": {},
   "source": [
    "### Implement Linear Discriminant Analysis Algorithm and use for the classification of Iris Dataset."
   ]
  },
  {
   "cell_type": "code",
   "execution_count": 96,
   "metadata": {},
   "outputs": [],
   "source": [
    "from math import *\n",
    "import numpy as np\n",
    "import pandas as pd\n",
    "import seaborn as sns\n",
    "from sklearn.model_selection import train_test_split\n",
    "from sklearn import datasets\n",
    "import matplotlib.pyplot as plt\n",
    "from sklearn.naive_bayes import GaussianNB\n",
    "from sklearn.metrics import accuracy_score\n",
    "from sklearn.metrics import classification_report"
   ]
  },
  {
   "cell_type": "markdown",
   "metadata": {},
   "source": [
    "#### (a) Plot the transformed dataset along with the corresponding class labels."
   ]
  },
  {
   "cell_type": "code",
   "execution_count": 97,
   "metadata": {},
   "outputs": [],
   "source": [
    "class LDA:\n",
    "    def __init__(self, dim=None):\n",
    "        self.dim = dim\n",
    "    \n",
    "    def transform(self, X, y):\n",
    "        # number of features\n",
    "        n = X.shape[1]\n",
    "        \n",
    "        # finding unique classes\n",
    "        unique_classes = np.unique(y)\n",
    "        \n",
    "        mean_overall = np.mean(X, axis=0)\n",
    "        # initialising scatter matrices\n",
    "        SW = np.zeros((n, n))\n",
    "        SB = np.zeros((n, n))\n",
    "        \n",
    "        for c in unique_classes:\n",
    "            x = X[y == c]\n",
    "            mean_c = np.mean(x, axis=0)\n",
    "            SW += (x - mean_c).T.dot((x - mean_c))\n",
    "\n",
    "            n_c = x.shape[0]\n",
    "            mean_diff = (mean_c - mean_overall).reshape(n, 1)\n",
    "            SB += n_c * (mean_diff).dot(mean_diff.T)\n",
    "            \n",
    "        # SW^-1 * SB\n",
    "        A = np.linalg.inv(SW).dot(SB)\n",
    "        eigenValues, eigenVectors = np.linalg.eigh(A)\n",
    "        eigenVectors = eigenVectors.T\n",
    "        \n",
    "        # sort eigen values from high to low\n",
    "        ind = np.argsort(abs(eigenValues))[::-1]\n",
    "        eigenValues = eigenValues[ind]\n",
    "        eigenVectors = eigenVectors[ind]\n",
    "        \n",
    "        # store first n eigenvectors\n",
    "        ld = eigenVectors[0:self.dim]\n",
    "        transformed_x = np.dot(X, ld.T)\n",
    "        \n",
    "        if self.dim == 2:\n",
    "\n",
    "            labels = np.unique(y)\n",
    "            colors =  ['r','g','b']\n",
    "            for color, label in zip(colors, labels):\n",
    "                class_data = transformed_x[np.flatnonzero(y==label)]\n",
    "                plt.scatter(class_data[:,0],class_data[:,1],c=color)\n",
    "            plt.show()\n",
    "            \n",
    "        return transformed_x"
   ]
  },
  {
   "cell_type": "code",
   "execution_count": 98,
   "metadata": {},
   "outputs": [
    {
     "data": {
      "image/png": "[encoded data removed]",
      "text/plain": [
       "<Figure size 432x288 with 1 Axes>"
      ]
     },
     "metadata": {
      "needs_background": "light"
     },
     "output_type": "display_data"
    },
    {
     "name": "stdout",
     "output_type": "stream",
     "text": [
      "Original Data Size: (120, 4) \n",
      "Modified Data Size: (120, 2)\n"
     ]
    }
   ],
   "source": [
    "lda = LDA(dim=2)\n",
    "iris = datasets.load_iris()\n",
    "X, y = iris.data, iris.target\n",
    "X_train, X_test, Y_train, Y_test = train_test_split(X, y, test_size=0.2)\n",
    "\n",
    "transformed_X_train = lda.transform(X_train, Y_train)\n",
    "\n",
    "print(\"Original Data Size:\",X_train.shape, \"\\nModified Data Size:\", transformed_X_train.shape)"
   ]
  },
  {
   "cell_type": "markdown",
   "metadata": {},
   "source": [
    "#### (b) Use bayes classifier for classification and compare results with that of PCA."
   ]
  },
  {
   "cell_type": "code",
   "execution_count": 99,
   "metadata": {},
   "outputs": [
    {
     "name": "stdout",
     "output_type": "stream",
     "text": [
      "              precision    recall  f1-score   support\n",
      "\n",
      "           0       1.00      1.00      1.00         8\n",
      "           1       0.82      1.00      0.90         9\n",
      "           2       1.00      0.71      0.83         7\n",
      "\n",
      "    accuracy                           0.92        24\n",
      "   macro avg       0.94      0.90      0.91        24\n",
      "weighted avg       0.93      0.92      0.91        24\n",
      "\n"
     ]
    }
   ],
   "source": [
    "# Bayes classification\n",
    "model = GaussianNB()\n",
    "X_train, X_test, Y_train,  Y_test = train_test_split(transformed_X_train, Y_train, test_size=0.2)\n",
    "model.fit(X_train, Y_train)\n",
    "\n",
    "predictions = model.predict(X_test)\n",
    "lda_accuracy = accuracy_score(Y_test, predictions)\n",
    "print(classification_report(Y_test, predictions))"
   ]
  },
  {
   "cell_type": "code",
   "execution_count": 100,
   "metadata": {
    "scrolled": true
   },
   "outputs": [
    {
     "name": "stdout",
     "output_type": "stream",
     "text": [
      "                 precision    recall  f1-score   support\n",
      "\n",
      "    Iris-setosa       1.00      1.00      1.00        11\n",
      "Iris-versicolor       0.89      0.80      0.84        10\n",
      " Iris-virginica       0.80      0.89      0.84         9\n",
      "\n",
      "       accuracy                           0.90        30\n",
      "      macro avg       0.90      0.90      0.89        30\n",
      "   weighted avg       0.90      0.90      0.90        30\n",
      "\n"
     ]
    }
   ],
   "source": [
    "# PCA implementation\n",
    "iris = pd.read_csv(\"iris.data\", header=None)\n",
    "\n",
    "# clean data by removing rows with blank values\n",
    "def cleanData(data):\n",
    "    data = data.replace('-', np.nan)\n",
    "    data = data.replace('', np.nan)\n",
    "    data = data.dropna()\n",
    "    return data\n",
    "\n",
    "def dropColumns(data):\n",
    "    data = data.drop(data.columns[-1], axis=1)\n",
    "    return data\n",
    "\n",
    "def eigenDecomposition(cov):\n",
    "    # finding eigen values & eigen vectors\n",
    "    eigenValues, eigenVectors = np.linalg.eig(cov)\n",
    "    return eigenValues, eigenVectors\n",
    "\n",
    "\n",
    "def modifiedVariance(eigenValues):\n",
    "    var = eigenValues / np.sum(eigenValues)\n",
    "    return var\n",
    "\n",
    "\n",
    "def bestVectors(n, variances, eigenVectors):\n",
    "    features = []\n",
    "    for _ in range(n):\n",
    "        temp = np.argmax(variances)\n",
    "        features.append(temp)\n",
    "        variances[temp] = 0\n",
    "    return eigenVectors[:, features]\n",
    "\n",
    "\n",
    "def principalComponents(vectors, data):\n",
    "    return np.dot(vectors.T, data.T).T\n",
    "\n",
    "# removing unecessary values\n",
    "iris = cleanData(iris)\n",
    "results = iris[4]\n",
    "data = dropColumns(iris)\n",
    "dataMatrix = data.values\n",
    "\n",
    "# finding mean\n",
    "means = np.mean(dataMatrix, axis=0)\n",
    "# subtracting mean\n",
    "dataMatrix = dataMatrix-means\n",
    "\n",
    "# finding covariance\n",
    "cov = np.cov(dataMatrix.T)\n",
    "\n",
    "eigenValues, eigenVectors = eigenDecomposition((len(dataMatrix)-1)*cov)\n",
    "variances = modifiedVariance(eigenValues)\n",
    "\n",
    "# finding top vectors\n",
    "vectors = bestVectors(3, variances, eigenVectors)\n",
    "\n",
    "PC1 = principalComponents(vectors, dataMatrix)\n",
    "\n",
    "model = GaussianNB()\n",
    "X_train, X_test, Y_train,  Y_test = train_test_split(PC1, results.ravel(), test_size=0.2)\n",
    "model.fit(X_train, Y_train)\n",
    "\n",
    "predictions = model.predict(X_test)\n",
    "pca_accuracy = accuracy_score(Y_test, predictions)\n",
    "print(classification_report(Y_test, predictions))"
   ]
  },
  {
   "cell_type": "code",
   "execution_count": 101,
   "metadata": {},
   "outputs": [
    {
     "name": "stdout",
     "output_type": "stream",
     "text": [
      "Accuracy for LDA:  0.9166666666666666\n",
      "Accuracy for PCA:  0.9\n",
      "\n",
      "LDA performs better than PCA.\n"
     ]
    }
   ],
   "source": [
    "print(\"Accuracy for LDA: \", lda_accuracy)\n",
    "print(\"Accuracy for PCA: \", pca_accuracy)\n",
    "\n",
    "if(lda_accuracy >= pca_accuracy):\n",
    "    print(\"\\nLDA performs better than PCA.\")\n",
    "else:\n",
    "    print(\"\\nPCA performs better than LDA.\")"
   ]
  },
  {
   "cell_type": "code",
   "execution_count": null,
   "metadata": {},
   "outputs": [],
   "source": []
  }
 ],
 "metadata": {
  "kernelspec": {
   "display_name": "Python 3",
   "language": "python",
   "name": "python3"
  },
  "language_info": {
   "codemirror_mode": {
    "name": "ipython",
    "version": 3
   },
   "file_extension": ".py",
   "mimetype": "text/x-python",
   "name": "python",
   "nbconvert_exporter": "python",
   "pygments_lexer": "ipython3",
   "version": "3.7.4"
  }
 },
 "nbformat": 4,
 "nbformat_minor": 2
}
