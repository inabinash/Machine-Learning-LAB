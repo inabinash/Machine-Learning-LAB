{
 "cells": [
  {
   "cell_type": "code",
   "execution_count": 1,
   "metadata": {},
   "outputs": [],
   "source": [
    "import random\n",
    "import numpy as np\n",
    "import pandas as pd\n",
    "from sklearn import datasets\n",
    "from sklearn.svm import SVC\n",
    "from sklearn.model_selection import train_test_split\n",
    "from sklearn.metrics import confusion_matrix, accuracy_score, precision_score, recall_score"
   ]
  },
  {
   "cell_type": "markdown",
   "metadata": {},
   "source": [
    "#### 1. Consider iris dataset, classify into binary classes using SVM. Report the confusion matrix and hence calculate accuracy, precision and recall for various SVM parameters and kernel functions (Linear, RBF, Polynomial)."
   ]
  },
  {
   "cell_type": "code",
   "execution_count": 2,
   "metadata": {},
   "outputs": [],
   "source": [
    "iris = datasets.load_iris()"
   ]
  },
  {
   "cell_type": "code",
   "execution_count": 3,
   "metadata": {},
   "outputs": [],
   "source": [
    "ind = 0\n",
    "for i in iris.target:\n",
    "    if i == 2:\n",
    "        break\n",
    "    ind += 1\n",
    "        \n",
    "iris.target = iris.target[:ind]\n",
    "iris.data = iris.data[:ind]"
   ]
  },
  {
   "cell_type": "code",
   "execution_count": 4,
   "metadata": {},
   "outputs": [],
   "source": [
    "X = iris.data\n",
    "y = iris.target\n",
    "\n",
    "X_train, X_test, Y_train, Y_test = train_test_split(X, y, test_size=0.2)"
   ]
  },
  {
   "cell_type": "code",
   "execution_count": 5,
   "metadata": {},
   "outputs": [
    {
     "data": {
      "text/plain": [
       "SVC(C=1.0, cache_size=200, class_weight=None, coef0=0.0,\n",
       "    decision_function_shape='ovr', degree=3, gamma='auto', kernel='rbf',\n",
       "    max_iter=-1, probability=False, random_state=None, shrinking=True,\n",
       "    tol=0.001, verbose=False)"
      ]
     },
     "execution_count": 5,
     "metadata": {},
     "output_type": "execute_result"
    }
   ],
   "source": [
    "svm = SVC(kernel=\"rbf\", gamma=\"auto\")\n",
    "svm.fit(X_train, Y_train)"
   ]
  },
  {
   "cell_type": "code",
   "execution_count": 6,
   "metadata": {},
   "outputs": [
    {
     "data": {
      "text/plain": [
       "array([1, 0, 0, 1, 0, 0, 1, 0, 0, 1, 1, 1, 0, 0, 0, 1, 1, 0, 1, 1])"
      ]
     },
     "execution_count": 6,
     "metadata": {},
     "output_type": "execute_result"
    }
   ],
   "source": [
    "svm.predict(X_test)"
   ]
  },
  {
   "cell_type": "code",
   "execution_count": 7,
   "metadata": {},
   "outputs": [
    {
     "name": "stdout",
     "output_type": "stream",
     "text": [
      "Confusion matrix: \n",
      " [[10  0]\n",
      " [ 0 10]]\n",
      "\n",
      "Accuracy:  1.0\n",
      "\n",
      "Precision:  1.0\n",
      "\n",
      "Recall:  1.0\n"
     ]
    }
   ],
   "source": [
    "predictions = svm.predict(X_test)\n",
    "\n",
    "print(\"Confusion matrix: \\n\", confusion_matrix(Y_test, predictions))\n",
    "print(\"\\nAccuracy: \", accuracy_score(Y_test, predictions))\n",
    "print(\"\\nPrecision: \", precision_score(Y_test, predictions))\n",
    "print(\"\\nRecall: \", recall_score(Y_test, predictions))"
   ]
  },
  {
   "cell_type": "code",
   "execution_count": 8,
   "metadata": {},
   "outputs": [
    {
     "name": "stdout",
     "output_type": "stream",
     "text": [
      "Confusion matrix: \n",
      " [[10  0]\n",
      " [ 0 10]]\n",
      "\n",
      "Accuracy:  1.0\n",
      "\n",
      "Precision:  1.0\n",
      "\n",
      "Recall:  1.0\n"
     ]
    }
   ],
   "source": [
    "svm = SVC(kernel=\"linear\", gamma=\"auto\")\n",
    "svm.fit(X_train, Y_train)\n",
    "\n",
    "predictions = svm.predict(X_test)\n",
    "\n",
    "print(\"Confusion matrix: \\n\", confusion_matrix(Y_test, predictions))\n",
    "print(\"\\nAccuracy: \", accuracy_score(Y_test, predictions))\n",
    "print(\"\\nPrecision: \", precision_score(Y_test, predictions))\n",
    "print(\"\\nRecall: \", recall_score(Y_test, predictions))"
   ]
  },
  {
   "cell_type": "code",
   "execution_count": 9,
   "metadata": {},
   "outputs": [
    {
     "name": "stdout",
     "output_type": "stream",
     "text": [
      "Confusion matrix: \n",
      " [[10  0]\n",
      " [ 0 10]]\n",
      "\n",
      "Accuracy:  1.0\n",
      "\n",
      "Precision:  1.0\n",
      "\n",
      "Recall:  1.0\n"
     ]
    }
   ],
   "source": [
    "svm = SVC(kernel=\"poly\", gamma=\"auto\")\n",
    "svm.fit(X_train, Y_train)\n",
    "\n",
    "predictions = svm.predict(X_test)\n",
    "\n",
    "print(\"Confusion matrix: \\n\", confusion_matrix(Y_test, predictions))\n",
    "print(\"\\nAccuracy: \", accuracy_score(Y_test, predictions))\n",
    "print(\"\\nPrecision: \", precision_score(Y_test, predictions))\n",
    "print(\"\\nRecall: \", recall_score(Y_test, predictions))"
   ]
  },
  {
   "cell_type": "markdown",
   "metadata": {},
   "source": [
    "#### 2. Consider iris dataset and perform classification using non-linear SVM for multi-class and report the confusion matrix and hence calculate accuracy, precision and recall (consider one-vs-all) for various SVM parameters and kernel functions (Linear, RBF, Polynomial).\n"
   ]
  },
  {
   "cell_type": "markdown",
   "metadata": {},
   "source": [
    "##### 0 vs all"
   ]
  },
  {
   "cell_type": "code",
   "execution_count": 10,
   "metadata": {},
   "outputs": [
    {
     "data": {
      "text/plain": [
       "array([0, 0, 0, 0, 0, 0, 0, 0, 0, 0, 0, 0, 0, 0, 0, 0, 0, 0, 0, 0, 0, 0,\n",
       "       0, 0, 0, 0, 0, 0, 0, 0, 0, 0, 0, 0, 0, 0, 0, 0, 0, 0, 0, 0, 0, 0,\n",
       "       0, 0, 0, 0, 0, 0, 1, 1, 1, 1, 1, 1, 1, 1, 1, 1, 1, 1, 1, 1, 1, 1,\n",
       "       1, 1, 1, 1, 1, 1, 1, 1, 1, 1, 1, 1, 1, 1, 1, 1, 1, 1, 1, 1, 1, 1,\n",
       "       1, 1, 1, 1, 1, 1, 1, 1, 1, 1, 1, 1, 1, 1, 1, 1, 1, 1, 1, 1, 1, 1,\n",
       "       1, 1, 1, 1, 1, 1, 1, 1, 1, 1, 1, 1, 1, 1, 1, 1, 1, 1, 1, 1, 1, 1,\n",
       "       1, 1, 1, 1, 1, 1, 1, 1, 1, 1, 1, 1, 1, 1, 1, 1, 1, 1])"
      ]
     },
     "execution_count": 10,
     "metadata": {},
     "output_type": "execute_result"
    }
   ],
   "source": [
    "iris = datasets.load_iris()\n",
    "\n",
    "iris.target = np.where((iris.target != 0), 1, 0)\n",
    "        \n",
    "iris.target"
   ]
  },
  {
   "cell_type": "code",
   "execution_count": 11,
   "metadata": {},
   "outputs": [],
   "source": [
    "X = iris.data\n",
    "y = iris.target\n",
    "\n",
    "X_train, X_test, Y_train, Y_test = train_test_split(X, y, test_size=0.2)"
   ]
  },
  {
   "cell_type": "code",
   "execution_count": 12,
   "metadata": {},
   "outputs": [
    {
     "name": "stdout",
     "output_type": "stream",
     "text": [
      "Confusion matrix: \n",
      " [[10  0]\n",
      " [ 0 20]]\n",
      "\n",
      "Accuracy:  1.0\n",
      "\n",
      "Precision:  1.0\n",
      "\n",
      "Recall:  1.0\n"
     ]
    }
   ],
   "source": [
    "svm = SVC(kernel=\"linear\", gamma=\"auto\")\n",
    "svm.fit(X_train, Y_train)\n",
    "\n",
    "predictions = svm.predict(X_test)\n",
    "\n",
    "print(\"Confusion matrix: \\n\", confusion_matrix(Y_test, predictions))\n",
    "print(\"\\nAccuracy: \", accuracy_score(Y_test, predictions))\n",
    "print(\"\\nPrecision: \", precision_score(Y_test, predictions))\n",
    "print(\"\\nRecall: \", recall_score(Y_test, predictions))"
   ]
  },
  {
   "cell_type": "code",
   "execution_count": 13,
   "metadata": {},
   "outputs": [
    {
     "name": "stdout",
     "output_type": "stream",
     "text": [
      "Confusion matrix: \n",
      " [[10  0]\n",
      " [ 0 20]]\n",
      "\n",
      "Accuracy:  1.0\n",
      "\n",
      "Precision:  1.0\n",
      "\n",
      "Recall:  1.0\n"
     ]
    }
   ],
   "source": [
    "svm = SVC(kernel=\"rbf\", gamma=\"auto\")\n",
    "svm.fit(X_train, Y_train)\n",
    "\n",
    "predictions = svm.predict(X_test)\n",
    "\n",
    "print(\"Confusion matrix: \\n\", confusion_matrix(Y_test, predictions))\n",
    "print(\"\\nAccuracy: \", accuracy_score(Y_test, predictions))\n",
    "print(\"\\nPrecision: \", precision_score(Y_test, predictions))\n",
    "print(\"\\nRecall: \", recall_score(Y_test, predictions))"
   ]
  },
  {
   "cell_type": "code",
   "execution_count": 14,
   "metadata": {},
   "outputs": [
    {
     "name": "stdout",
     "output_type": "stream",
     "text": [
      "Confusion matrix: \n",
      " [[10  0]\n",
      " [ 0 20]]\n",
      "\n",
      "Accuracy:  1.0\n",
      "\n",
      "Precision:  1.0\n",
      "\n",
      "Recall:  1.0\n"
     ]
    }
   ],
   "source": [
    "svm = SVC(kernel=\"poly\", gamma=\"auto\")\n",
    "svm.fit(X_train, Y_train)\n",
    "\n",
    "predictions = svm.predict(X_test)\n",
    "\n",
    "print(\"Confusion matrix: \\n\", confusion_matrix(Y_test, predictions))\n",
    "print(\"\\nAccuracy: \", accuracy_score(Y_test, predictions))\n",
    "print(\"\\nPrecision: \", precision_score(Y_test, predictions))\n",
    "print(\"\\nRecall: \", recall_score(Y_test, predictions))"
   ]
  },
  {
   "cell_type": "markdown",
   "metadata": {},
   "source": [
    "##### 1 vs all"
   ]
  },
  {
   "cell_type": "code",
   "execution_count": 15,
   "metadata": {},
   "outputs": [
    {
     "data": {
      "text/plain": [
       "array([0, 0, 0, 0, 0, 0, 0, 0, 0, 0, 0, 0, 0, 0, 0, 0, 0, 0, 0, 0, 0, 0,\n",
       "       0, 0, 0, 0, 0, 0, 0, 0, 0, 0, 0, 0, 0, 0, 0, 0, 0, 0, 0, 0, 0, 0,\n",
       "       0, 0, 0, 0, 0, 0, 1, 1, 1, 1, 1, 1, 1, 1, 1, 1, 1, 1, 1, 1, 1, 1,\n",
       "       1, 1, 1, 1, 1, 1, 1, 1, 1, 1, 1, 1, 1, 1, 1, 1, 1, 1, 1, 1, 1, 1,\n",
       "       1, 1, 1, 1, 1, 1, 1, 1, 1, 1, 1, 1, 0, 0, 0, 0, 0, 0, 0, 0, 0, 0,\n",
       "       0, 0, 0, 0, 0, 0, 0, 0, 0, 0, 0, 0, 0, 0, 0, 0, 0, 0, 0, 0, 0, 0,\n",
       "       0, 0, 0, 0, 0, 0, 0, 0, 0, 0, 0, 0, 0, 0, 0, 0, 0, 0])"
      ]
     },
     "execution_count": 15,
     "metadata": {},
     "output_type": "execute_result"
    }
   ],
   "source": [
    "iris = datasets.load_iris()\n",
    "\n",
    "iris.target = np.where((iris.target != 1), 0, 1)\n",
    "        \n",
    "iris.target"
   ]
  },
  {
   "cell_type": "code",
   "execution_count": 16,
   "metadata": {},
   "outputs": [],
   "source": [
    "X = iris.data\n",
    "y = iris.target\n",
    "\n",
    "X_train, X_test, Y_train, Y_test = train_test_split(X, y, test_size=0.2)"
   ]
  },
  {
   "cell_type": "code",
   "execution_count": 17,
   "metadata": {},
   "outputs": [
    {
     "name": "stdout",
     "output_type": "stream",
     "text": [
      "Confusion matrix: \n",
      " [[17  0]\n",
      " [ 8  5]]\n",
      "\n",
      "Accuracy:  0.7333333333333333\n",
      "\n",
      "Precision:  1.0\n",
      "\n",
      "Recall:  0.38461538461538464\n"
     ]
    }
   ],
   "source": [
    "svm = SVC(kernel=\"linear\", gamma=\"auto\")\n",
    "svm.fit(X_train, Y_train)\n",
    "\n",
    "predictions = svm.predict(X_test)\n",
    "\n",
    "print(\"Confusion matrix: \\n\", confusion_matrix(Y_test, predictions))\n",
    "print(\"\\nAccuracy: \", accuracy_score(Y_test, predictions))\n",
    "print(\"\\nPrecision: \", precision_score(Y_test, predictions))\n",
    "print(\"\\nRecall: \", recall_score(Y_test, predictions))"
   ]
  },
  {
   "cell_type": "code",
   "execution_count": 18,
   "metadata": {},
   "outputs": [
    {
     "name": "stdout",
     "output_type": "stream",
     "text": [
      "Confusion matrix: \n",
      " [[16  1]\n",
      " [ 0 13]]\n",
      "\n",
      "Accuracy:  0.9666666666666667\n",
      "\n",
      "Precision:  0.9285714285714286\n",
      "\n",
      "Recall:  1.0\n"
     ]
    }
   ],
   "source": [
    "svm = SVC(kernel=\"rbf\", gamma=\"auto\")\n",
    "svm.fit(X_train, Y_train)\n",
    "\n",
    "predictions = svm.predict(X_test)\n",
    "\n",
    "print(\"Confusion matrix: \\n\", confusion_matrix(Y_test, predictions))\n",
    "print(\"\\nAccuracy: \", accuracy_score(Y_test, predictions))\n",
    "print(\"\\nPrecision: \", precision_score(Y_test, predictions))\n",
    "print(\"\\nRecall: \", recall_score(Y_test, predictions))"
   ]
  },
  {
   "cell_type": "code",
   "execution_count": 19,
   "metadata": {},
   "outputs": [
    {
     "name": "stdout",
     "output_type": "stream",
     "text": [
      "Confusion matrix: \n",
      " [[17  0]\n",
      " [ 0 13]]\n",
      "\n",
      "Accuracy:  1.0\n",
      "\n",
      "Precision:  1.0\n",
      "\n",
      "Recall:  1.0\n"
     ]
    }
   ],
   "source": [
    "svm = SVC(kernel=\"poly\", gamma=\"auto\")\n",
    "svm.fit(X_train, Y_train)\n",
    "\n",
    "predictions = svm.predict(X_test)\n",
    "\n",
    "print(\"Confusion matrix: \\n\", confusion_matrix(Y_test, predictions))\n",
    "print(\"\\nAccuracy: \", accuracy_score(Y_test, predictions))\n",
    "print(\"\\nPrecision: \", precision_score(Y_test, predictions))\n",
    "print(\"\\nRecall: \", recall_score(Y_test, predictions))"
   ]
  },
  {
   "cell_type": "markdown",
   "metadata": {},
   "source": [
    "##### 2 vs all"
   ]
  },
  {
   "cell_type": "code",
   "execution_count": 20,
   "metadata": {},
   "outputs": [
    {
     "data": {
      "text/plain": [
       "array([1, 1, 1, 1, 1, 1, 1, 1, 1, 1, 1, 1, 1, 1, 1, 1, 1, 1, 1, 1, 1, 1,\n",
       "       1, 1, 1, 1, 1, 1, 1, 1, 1, 1, 1, 1, 1, 1, 1, 1, 1, 1, 1, 1, 1, 1,\n",
       "       1, 1, 1, 1, 1, 1, 1, 1, 1, 1, 1, 1, 1, 1, 1, 1, 1, 1, 1, 1, 1, 1,\n",
       "       1, 1, 1, 1, 1, 1, 1, 1, 1, 1, 1, 1, 1, 1, 1, 1, 1, 1, 1, 1, 1, 1,\n",
       "       1, 1, 1, 1, 1, 1, 1, 1, 1, 1, 1, 1, 2, 2, 2, 2, 2, 2, 2, 2, 2, 2,\n",
       "       2, 2, 2, 2, 2, 2, 2, 2, 2, 2, 2, 2, 2, 2, 2, 2, 2, 2, 2, 2, 2, 2,\n",
       "       2, 2, 2, 2, 2, 2, 2, 2, 2, 2, 2, 2, 2, 2, 2, 2, 2, 2])"
      ]
     },
     "execution_count": 20,
     "metadata": {},
     "output_type": "execute_result"
    }
   ],
   "source": [
    "iris = datasets.load_iris()\n",
    "\n",
    "iris.target = np.where((iris.target != 2), 1, 2)\n",
    "        \n",
    "iris.target"
   ]
  },
  {
   "cell_type": "code",
   "execution_count": 21,
   "metadata": {},
   "outputs": [],
   "source": [
    "X = iris.data\n",
    "y = iris.target\n",
    "\n",
    "X_train, X_test, Y_train, Y_test = train_test_split(X, y, test_size=0.2)"
   ]
  },
  {
   "cell_type": "code",
   "execution_count": 22,
   "metadata": {},
   "outputs": [
    {
     "name": "stdout",
     "output_type": "stream",
     "text": [
      "Confusion matrix: \n",
      " [[18  1]\n",
      " [ 0 11]]\n",
      "\n",
      "Accuracy:  0.9666666666666667\n",
      "\n",
      "Precision:  1.0\n",
      "\n",
      "Recall:  0.9473684210526315\n"
     ]
    }
   ],
   "source": [
    "svm = SVC(kernel=\"linear\", gamma=\"auto\")\n",
    "svm.fit(X_train, Y_train)\n",
    "\n",
    "predictions = svm.predict(X_test)\n",
    "\n",
    "print(\"Confusion matrix: \\n\", confusion_matrix(Y_test, predictions))\n",
    "print(\"\\nAccuracy: \", accuracy_score(Y_test, predictions))\n",
    "print(\"\\nPrecision: \", precision_score(Y_test, predictions))\n",
    "print(\"\\nRecall: \", recall_score(Y_test, predictions))"
   ]
  },
  {
   "cell_type": "code",
   "execution_count": 23,
   "metadata": {},
   "outputs": [
    {
     "name": "stdout",
     "output_type": "stream",
     "text": [
      "Confusion matrix: \n",
      " [[19  0]\n",
      " [ 0 11]]\n",
      "\n",
      "Accuracy:  1.0\n",
      "\n",
      "Precision:  1.0\n",
      "\n",
      "Recall:  1.0\n"
     ]
    }
   ],
   "source": [
    "svm = SVC(kernel=\"rbf\", gamma=\"auto\")\n",
    "svm.fit(X_train, Y_train)\n",
    "\n",
    "predictions = svm.predict(X_test)\n",
    "\n",
    "print(\"Confusion matrix: \\n\", confusion_matrix(Y_test, predictions))\n",
    "print(\"\\nAccuracy: \", accuracy_score(Y_test, predictions))\n",
    "print(\"\\nPrecision: \", precision_score(Y_test, predictions))\n",
    "print(\"\\nRecall: \", recall_score(Y_test, predictions))"
   ]
  },
  {
   "cell_type": "code",
   "execution_count": 24,
   "metadata": {},
   "outputs": [
    {
     "name": "stdout",
     "output_type": "stream",
     "text": [
      "Confusion matrix: \n",
      " [[19  0]\n",
      " [ 0 11]]\n",
      "\n",
      "Accuracy:  1.0\n",
      "\n",
      "Precision:  1.0\n",
      "\n",
      "Recall:  1.0\n"
     ]
    }
   ],
   "source": [
    "svm = SVC(kernel=\"poly\", gamma=\"auto\")\n",
    "svm.fit(X_train, Y_train)\n",
    "\n",
    "predictions = svm.predict(X_test)\n",
    "\n",
    "print(\"Confusion matrix: \\n\", confusion_matrix(Y_test, predictions))\n",
    "print(\"\\nAccuracy: \", accuracy_score(Y_test, predictions))\n",
    "print(\"\\nPrecision: \", precision_score(Y_test, predictions))\n",
    "print(\"\\nRecall: \", recall_score(Y_test, predictions))"
   ]
  },
  {
   "cell_type": "markdown",
   "metadata": {},
   "source": [
    "#### 3. Considering the Unified Learning Rule, design a perceptron network to implement the following logic functions. (Your programs must be generalized, so that it can handle any input.)\n",
    "(a) AND\n",
    "(b) OR\n",
    "(c) NAND\n",
    "(d) NOR"
   ]
  },
  {
   "cell_type": "code",
   "execution_count": 41,
   "metadata": {},
   "outputs": [
    {
     "name": "stdout",
     "output_type": "stream",
     "text": [
      "Bias: -3.0, Weights: [2.2297747181283216, 1.4486816064340728]\n",
      "Bias: -1.0, Weights: [1.4637005249055823, 1.800555468034211]\n",
      "Bias: 2.0, Weights: [-1.760225783537947, -0.8278030762678175]\n",
      "Bias: 0.0, Weights: [-0.04994917526063425, -0.04458243773048809]\n"
     ]
    }
   ],
   "source": [
    "class PerceptronNetwork:\n",
    "    def __init__(self, input_size):\n",
    "        self.weights = [random.random() for _ in range(input_size)]\n",
    "        self.bias = 0.0\n",
    "    \n",
    "    def predict(self, inputs):\n",
    "        sum = 0.0\n",
    "        for i in range(len(inputs)):\n",
    "            sum += inputs[i] * self.weights[i]\n",
    "        sum += self.bias\n",
    "        return 1 if sum >= 0.0 else 0\n",
    "    \n",
    "    def train(self, inputs, output):\n",
    "        prediction = self.predict(inputs)\n",
    "        error = output - prediction\n",
    "        for i in range(len(inputs)):\n",
    "            self.weights[i] += error * inputs[i]\n",
    "        self.bias += error\n",
    "    \n",
    "    def test(self, inputs, output):\n",
    "        prediction = self.predict(inputs)\n",
    "        if prediction == output:\n",
    "            return True\n",
    "        else:\n",
    "            return False\n",
    "    \n",
    "    def testAll(self, inputs, outputs):\n",
    "        correct = 0\n",
    "        for i in range(len(inputs)):\n",
    "            if self.test(inputs[i], outputs[i]):\n",
    "                correct += 1\n",
    "        return correct / len(inputs)\n",
    "    \n",
    "    def trainAll(self, inputs, outputs, epochs):\n",
    "        for i in range(epochs):\n",
    "            for j in range(len(inputs)):\n",
    "                self.train(inputs[j], outputs[j])\n",
    "\n",
    "inputs1 = [[0,0], [0,1], [1,0], [1,1]]\n",
    "inputs2 = [[0,0], [0,1], [1,0], [1,1]]\n",
    "inputs3 = [[0,0], [0,1], [1,0], [1,1]]\n",
    "inputs4 = [[0,0], [0,1], [1,0], [1,1]]\n",
    "\n",
    "output1 = [0,0,0,1]\n",
    "output2 = [0,1,1,1]\n",
    "output3 = [1,1,1,0]\n",
    "output4 = [1,0,0,0]\n",
    "\n",
    "p1 = PerceptronNetwork(2)\n",
    "p2 = PerceptronNetwork(2)\n",
    "p3 = PerceptronNetwork(2)\n",
    "p4 = PerceptronNetwork(2)\n",
    "\n",
    "p1.trainAll(inputs1, output1, 10000)\n",
    "print(f'Bias: {p1.bias}, Weights: {p1.weights}')\n",
    "\n",
    "p2.trainAll(inputs2, output2, 10000)\n",
    "print(f'Bias: {p2.bias}, Weights: {p2.weights}')\n",
    "\n",
    "p3.trainAll(inputs3, output3, 10000)\n",
    "print(f'Bias: {p3.bias}, Weights: {p3.weights}')\n",
    "\n",
    "p4.trainAll(inputs4, output4, 10000)\n",
    "print(f'Bias: {p4.bias}, Weights: {p4.weights}')"
   ]
  },
  {
   "cell_type": "code",
   "execution_count": 42,
   "metadata": {},
   "outputs": [
    {
     "name": "stdout",
     "output_type": "stream",
     "text": [
      "0 1 1 0\n"
     ]
    }
   ],
   "source": [
    "print(p1.predict([0,1]),p2.predict([0,1]),p3.predict([0,1]),p4.predict([0,1]))"
   ]
  },
  {
   "cell_type": "code",
   "execution_count": null,
   "metadata": {},
   "outputs": [],
   "source": []
  }
 ],
 "metadata": {
  "kernelspec": {
   "display_name": "Python 3",
   "language": "python",
   "name": "python3"
  },
  "language_info": {
   "codemirror_mode": {
    "name": "ipython",
    "version": 3
   },
   "file_extension": ".py",
   "mimetype": "text/x-python",
   "name": "python",
   "nbconvert_exporter": "python",
   "pygments_lexer": "ipython3",
   "version": "3.7.4"
  }
 },
 "nbformat": 4,
 "nbformat_minor": 2
}
