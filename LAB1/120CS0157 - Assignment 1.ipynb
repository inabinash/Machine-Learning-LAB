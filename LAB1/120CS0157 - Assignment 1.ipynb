{
 "cells": [
  {
   "cell_type": "markdown",
   "metadata": {},
   "source": [
    "#### Normal distribution"
   ]
  },
  {
   "cell_type": "code",
   "execution_count": 56,
   "metadata": {},
   "outputs": [],
   "source": [
    "from math import *\n",
    "import random\n",
    "from matplotlib import pyplot as plt"
   ]
  },
  {
   "cell_type": "code",
   "execution_count": 1,
   "metadata": {},
   "outputs": [],
   "source": [
    "def findMean(arr):\n",
    "    total = 0\n",
    "    for i in arr:\n",
    "        total += i\n",
    "    return total/len(arr)"
   ]
  },
  {
   "cell_type": "code",
   "execution_count": 5,
   "metadata": {},
   "outputs": [],
   "source": [
    "def findStandardDeviation(arr, mean):\n",
    "    total = 0\n",
    "    for i in arr:\n",
    "        total += (i-mean)*(i-mean)\n",
    "    total = total/len(arr)\n",
    "    return sqrt(total)"
   ]
  },
  {
   "cell_type": "code",
   "execution_count": 33,
   "metadata": {},
   "outputs": [
    {
     "data": {
      "text/plain": [
       "[<matplotlib.lines.Line2D at 0x1d324895708>]"
      ]
     },
     "execution_count": 33,
     "metadata": {},
     "output_type": "execute_result"
    },
    {
     "data": {
      "image/png": "[encoded data removed]",
      "text/plain": [
       "<Figure size 432x288 with 1 Axes>"
      ]
     },
     "metadata": {
      "needs_background": "light"
     },
     "output_type": "display_data"
    }
   ],
   "source": [
    "def generateNormalDistribution(x):\n",
    "    mu = findMean(x)\n",
    "    sigma = findStandardDeviation(x, mu)\n",
    "    \n",
    "    fx = []\n",
    "    for i in x:\n",
    "        y = (1/(sigma*sqrt(2*pi)))*exp((-1/2)*pow((i-mu)/sigma,2))\n",
    "        fx.append(y)\n",
    "        \n",
    "    return fx\n",
    "\n",
    "x = [i for i in range(100)]\n",
    "normal_fx = generateNormalDistribution(x)\n",
    "plt.plot(x, normal_fx)"
   ]
  },
  {
   "cell_type": "markdown",
   "metadata": {},
   "source": [
    "#### Uniform distribution"
   ]
  },
  {
   "cell_type": "code",
   "execution_count": 32,
   "metadata": {},
   "outputs": [
    {
     "name": "stdout",
     "output_type": "stream",
     "text": [
      "Enter the value of a: 20\n",
      "Enter the value of b: 40\n"
     ]
    },
    {
     "data": {
      "text/plain": [
       "[<matplotlib.lines.Line2D at 0x1d324830808>]"
      ]
     },
     "execution_count": 32,
     "metadata": {},
     "output_type": "execute_result"
    },
    {
     "data": {
      "image/png": "[encoded data removed]",
      "text/plain": [
       "<Figure size 432x288 with 1 Axes>"
      ]
     },
     "metadata": {
      "needs_background": "light"
     },
     "output_type": "display_data"
    }
   ],
   "source": [
    "def generateUniformDistribution(x):\n",
    "    a = int(input(\"Enter the value of a: \"))\n",
    "    b = int(input(\"Enter the value of b: \"))\n",
    "    \n",
    "    fx = []\n",
    "    y = 1/(b-a)\n",
    "    for i in x:\n",
    "        if i > a and i < b:\n",
    "            fx.append(y)\n",
    "        else:\n",
    "            fx.append(0)\n",
    "    \n",
    "    return fx\n",
    "\n",
    "x = [i for i in range(100)]\n",
    "uniform_fx = generateUniformDistribution(x)\n",
    "plt.plot(x, uniform_fx)"
   ]
  },
  {
   "cell_type": "markdown",
   "metadata": {},
   "source": [
    "#### Exponential Distribution"
   ]
  },
  {
   "cell_type": "code",
   "execution_count": 36,
   "metadata": {},
   "outputs": [
    {
     "name": "stdout",
     "output_type": "stream",
     "text": [
      "Enter the rate parameter: 0.5\n"
     ]
    },
    {
     "data": {
      "text/plain": [
       "[<matplotlib.lines.Line2D at 0x1d3246ad2c8>]"
      ]
     },
     "execution_count": 36,
     "metadata": {},
     "output_type": "execute_result"
    },
    {
     "data": {
      "image/png": "[encoded data removed]",
      "text/plain": [
       "<Figure size 432x288 with 1 Axes>"
      ]
     },
     "metadata": {
      "needs_background": "light"
     },
     "output_type": "display_data"
    }
   ],
   "source": [
    "def generateExponentialDistribution(x):\n",
    "    l = float(input(\"Enter the rate parameter: \"))\n",
    "    \n",
    "    fx = []\n",
    "    for i in x:\n",
    "        y = l*(exp(-l*i))\n",
    "        if i > 0:\n",
    "            fx.append(y)\n",
    "        else:\n",
    "            fx.append(0)\n",
    "    \n",
    "    return fx\n",
    "\n",
    "x = [i for i in range(100)]\n",
    "exponential_fx = generateExponentialDistribution(x)\n",
    "plt.plot(x, exponential_fx)"
   ]
  },
  {
   "cell_type": "markdown",
   "metadata": {},
   "source": [
    "#### Poisson Distribution"
   ]
  },
  {
   "cell_type": "code",
   "execution_count": 39,
   "metadata": {},
   "outputs": [],
   "source": [
    "def findFactorial(n):\n",
    "    fact = 1\n",
    "    while n > 1:\n",
    "        fact *= n\n",
    "        n -= 1\n",
    "        \n",
    "    return fact"
   ]
  },
  {
   "cell_type": "code",
   "execution_count": 48,
   "metadata": {},
   "outputs": [
    {
     "name": "stdout",
     "output_type": "stream",
     "text": [
      "Enter the rate parameter: 0.5\n"
     ]
    },
    {
     "data": {
      "text/plain": [
       "[<matplotlib.lines.Line2D at 0x1d324b86c88>]"
      ]
     },
     "execution_count": 48,
     "metadata": {},
     "output_type": "execute_result"
    },
    {
     "data": {
      "image/png": "[encoded data removed]",
      "text/plain": [
       "<Figure size 432x288 with 1 Axes>"
      ]
     },
     "metadata": {
      "needs_background": "light"
     },
     "output_type": "display_data"
    }
   ],
   "source": [
    "def generatePoissonDistribution(x):\n",
    "    l = float(input(\"Enter the rate parameter: \"))\n",
    "    \n",
    "    fx = []\n",
    "    for i in x:\n",
    "        y = pow(l, i)*exp(-l)/findFactorial(i)\n",
    "        fx.append(y)\n",
    "\n",
    "    return fx\n",
    "\n",
    "x = [i for i in range(100)]\n",
    "poisson_fx = generatePoissonDistribution(x)\n",
    "plt.plot(x, poisson_fx)"
   ]
  },
  {
   "cell_type": "markdown",
   "metadata": {},
   "source": [
    "#### Cauchy Distribution"
   ]
  },
  {
   "cell_type": "code",
   "execution_count": 53,
   "metadata": {},
   "outputs": [
    {
     "data": {
      "text/plain": [
       "[<matplotlib.lines.Line2D at 0x1d325d673c8>]"
      ]
     },
     "execution_count": 53,
     "metadata": {},
     "output_type": "execute_result"
    },
    {
     "data": {
      "image/png": "[encoded data removed]",
      "text/plain": [
       "<Figure size 432x288 with 1 Axes>"
      ]
     },
     "metadata": {
      "needs_background": "light"
     },
     "output_type": "display_data"
    }
   ],
   "source": [
    "def generateCauchyDistribution(x): \n",
    "    fx = []\n",
    "    \n",
    "    for i in x:\n",
    "        y = 1/(pi*(1+i*i))\n",
    "        fx.append(y)\n",
    "    \n",
    "    return fx\n",
    "\n",
    "x = [i for i in range(100)]\n",
    "cauchy_fx = generateCauchyDistribution(x)\n",
    "plt.plot(x, cauchy_fx)"
   ]
  },
  {
   "cell_type": "markdown",
   "metadata": {},
   "source": [
    "#### t-Distribution"
   ]
  },
  {
   "cell_type": "code",
   "execution_count": 125,
   "metadata": {},
   "outputs": [
    {
     "data": {
      "text/plain": [
       "[<matplotlib.lines.Line2D at 0x1d327448fc8>]"
      ]
     },
     "execution_count": 125,
     "metadata": {},
     "output_type": "execute_result"
    },
    {
     "data": {
      "image/png": "[encoded data removed]",
      "text/plain": [
       "<Figure size 432x288 with 1 Axes>"
      ]
     },
     "metadata": {
      "needs_background": "light"
     },
     "output_type": "display_data"
    }
   ],
   "source": [
    "def generateTDistribution(x):\n",
    "    mu = findMean(x)\n",
    "    fx = []\n",
    "    \n",
    "    for i in range(len(x)):\n",
    "        sample = [random.choice(x) for i in range(10)]\n",
    "\n",
    "        n = len(sample)\n",
    "        \n",
    "        # custom functions defined in beginning\n",
    "        x_bar = findMean(sample)\n",
    "        s = findStandardDeviation(x, x_bar)\n",
    "        t = (x_bar - mu)/(s/sqrt(n))\n",
    "        \n",
    "        fx.append(t)\n",
    "    \n",
    "    return fx\n",
    "\n",
    "x = [i for i in range(100)]\n",
    "t_fx = generateTDistribution(x)\n",
    "plt.plot(x, t_fx)"
   ]
  },
  {
   "cell_type": "markdown",
   "metadata": {},
   "source": [
    "#### Chi-squared Distribution"
   ]
  },
  {
   "cell_type": "code",
   "execution_count": 71,
   "metadata": {},
   "outputs": [
    {
     "name": "stdout",
     "output_type": "stream",
     "text": [
      "Enter degress of freedom: 10\n"
     ]
    },
    {
     "data": {
      "text/plain": [
       "[<matplotlib.lines.Line2D at 0x1d3261fee48>]"
      ]
     },
     "execution_count": 71,
     "metadata": {},
     "output_type": "execute_result"
    },
    {
     "data": {
      "image/png": "[encoded data removed]",
      "text/plain": [
       "<Figure size 432x288 with 1 Axes>"
      ]
     },
     "metadata": {
      "needs_background": "light"
     },
     "output_type": "display_data"
    }
   ],
   "source": [
    "def generateChiSquaredDistribution(x): \n",
    "    k = int(input(\"Enter degress of freedom: \"))\n",
    "    fx = []\n",
    "    \n",
    "    for i in x:\n",
    "        y = (pow(i, (k/2)-1)*exp(-i/2))/(pow(2,k/2)*gamma(k/2))       \n",
    "        fx.append(y)\n",
    "    \n",
    "    return fx\n",
    "\n",
    "x = [i for i in range(100)]\n",
    "chiSquared_fx = generateChiSquaredDistribution(x)\n",
    "plt.plot(x, chiSquared_fx)"
   ]
  },
  {
   "cell_type": "markdown",
   "metadata": {},
   "source": [
    "#### Gamma Distribution"
   ]
  },
  {
   "cell_type": "code",
   "execution_count": 76,
   "metadata": {},
   "outputs": [
    {
     "name": "stdout",
     "output_type": "stream",
     "text": [
      "Enter lambda: 5\n",
      "Enter alpha: 0.2\n"
     ]
    },
    {
     "data": {
      "text/plain": [
       "[<matplotlib.lines.Line2D at 0x1d326341448>]"
      ]
     },
     "execution_count": 76,
     "metadata": {},
     "output_type": "execute_result"
    },
    {
     "data": {
      "image/png": "[encoded data removed]",
      "text/plain": [
       "<Figure size 432x288 with 1 Axes>"
      ]
     },
     "metadata": {
      "needs_background": "light"
     },
     "output_type": "display_data"
    }
   ],
   "source": [
    "def generateGammaDistribution(x): \n",
    "    l = float(input(\"Enter lambda: \"))\n",
    "    a = float(input(\"Enter alpha: \"))\n",
    "    fx = []\n",
    "    \n",
    "    for i in x:\n",
    "        if i > 0:\n",
    "            y = pow(l, a)*pow(i, a-1)*exp(-l*i)/gamma(a)\n",
    "        else:\n",
    "            y = 0\n",
    "        fx.append(y)\n",
    "    \n",
    "    return fx\n",
    "\n",
    "x = [i for i in range(100)]\n",
    "gamma_fx = generateGammaDistribution(x)\n",
    "plt.plot(x, gamma_fx)"
   ]
  },
  {
   "cell_type": "markdown",
   "metadata": {},
   "source": [
    "#### Consider a set of d-dimensional samples. Write a program to find out covariance matrix."
   ]
  },
  {
   "cell_type": "code",
   "execution_count": 121,
   "metadata": {},
   "outputs": [
    {
     "name": "stdout",
     "output_type": "stream",
     "text": [
      "\n",
      "X: \n",
      "[826.5, 18.0, 24.0, 195.5]\n",
      "[18.0, 927.6875, -438.25, -152.25]\n",
      "[24.0, -438.25, 401.0, 67.0]\n",
      "[195.5, -152.25, 67.0, 73.5]\n",
      "\n",
      "Mean array:\n",
      "[69.25, 42.75, 46.0, 43.0]\n",
      "\n",
      "Covariance matrix: \n",
      "[346.1875, -226.9375, -514.0, -496.5]\n",
      "[-226.9375, 648.1875, 10.0, 606.5]\n",
      "[-514.0, 10.0, 994.0, 528.0]\n",
      "[-496.5, 606.5, 528.0, 908.0]\n"
     ]
    }
   ],
   "source": [
    "mat = [[random.randint(1, 100) for i in range(4)] for j in range(4)]\n",
    "\n",
    "means = []\n",
    "for i in range(len(mat[0])):\n",
    "    tot = 0\n",
    "    for j in range(len(mat)):\n",
    "        tot += mat[j][i]\n",
    "        \n",
    "    means.append(tot/len(mat))\n",
    "    \n",
    "print(\"\\nX: \")\n",
    "for i in range(len(Cov)):\n",
    "    print(Cov[i])\n",
    "print(\"\\nMean array:\\n\", means, sep='')\n",
    "\n",
    "Cov = []\n",
    "for j in range(len(means)):\n",
    "    covs = []\n",
    "    for k in range(len(means)):\n",
    "        sum=0\n",
    "        for i in range(len(means)):\n",
    "            sum += ((mat[i][j] - means[j]) * (mat[i][k] - means[k]))\n",
    "        result  = sum/ len(means)\n",
    "        covs.append(result)\n",
    "    Cov.append(covs)\n",
    "\n",
    "print(\"\\nCovariance matrix: \")\n",
    "for i in range(len(Cov)):\n",
    "    print(Cov[i])"
   ]
  },
  {
   "cell_type": "code",
   "execution_count": null,
   "metadata": {},
   "outputs": [],
   "source": []
  }
 ],
 "metadata": {
  "kernelspec": {
   "display_name": "Python 3",
   "language": "python",
   "name": "python3"
  },
  "language_info": {
   "codemirror_mode": {
    "name": "ipython",
    "version": 3
   },
   "file_extension": ".py",
   "mimetype": "text/x-python",
   "name": "python",
   "nbconvert_exporter": "python",
   "pygments_lexer": "ipython3",
   "version": "3.7.4"
  }
 },
 "nbformat": 4,
 "nbformat_minor": 2
}
