{
 "cells": [
  {
   "cell_type": "markdown",
   "metadata": {},
   "source": [
    "## Bayesian Classifier for Iris Dataset"
   ]
  },
  {
   "cell_type": "code",
   "execution_count": 1,
   "metadata": {},
   "outputs": [],
   "source": [
    "from math import *\n",
    "import numpy as np\n",
    "import matplotlib.pyplot as plt"
   ]
  },
  {
   "cell_type": "markdown",
   "metadata": {},
   "source": [
    "#### Generating data"
   ]
  },
  {
   "cell_type": "code",
   "execution_count": 43,
   "metadata": {},
   "outputs": [],
   "source": [
    "def generateData(means, cov, size):\n",
    "\n",
    "    x1 = np.random.multivariate_normal(means[0], cov[0], size//3) \n",
    "    x2 = np.random.multivariate_normal(means[1], cov[1], size//3+1) \n",
    "    x3 = np.random.multivariate_normal(means[2], cov[2], size//3)\n",
    "    \n",
    "    y1 = 0 * np.ones(size//3, dtype=int)\n",
    "    y2 = 1 * np.ones(size//3 + 1, dtype=int)\n",
    "    y3 = 2 * np.ones(size//3, dtype=int)\n",
    "    \n",
    "    x_train = np.vstack([x1, x2, x3])\n",
    "    y_train = np.hstack([y1, y2, y3])\n",
    "    \n",
    "    x1 = np.random.multivariate_normal(means[0], cov[0], size//3) \n",
    "    x2 = np.random.multivariate_normal(means[1], cov[1], size//3+1) \n",
    "    x3 = np.random.multivariate_normal(means[2], cov[2], size//3) \n",
    "    \n",
    "    y1 = 0 * np.ones(size//3, dtype=int)\n",
    "    y2 = 1 * np.ones(size//3 + 1, dtype=int)\n",
    "    y3 = 2 * np.ones(size//3, dtype=int)\n",
    "    \n",
    "    x_test = np.vstack([x1, x2, x3])\n",
    "    y_test = np.hstack([y1, y2, y3])\n",
    "    \n",
    "#     print(x_train, y_train, sep=\"\\n\")\n",
    "#     print(x_test, y_test, sep=\"\\n\")\n",
    "    \n",
    "    return x_train, y_train, x_test, y_test"
   ]
  },
  {
   "cell_type": "markdown",
   "metadata": {},
   "source": [
    "#### Calculating error"
   ]
  },
  {
   "cell_type": "code",
   "execution_count": 75,
   "metadata": {},
   "outputs": [],
   "source": [
    "def calculateError(y_test, predictions):\n",
    "    sampleSize = np.size(y_test)\n",
    "    errors = np.size(np.where(y_test!=predictions))\n",
    "    return (errors/sampleSize) * 100"
   ]
  },
  {
   "cell_type": "markdown",
   "metadata": {},
   "source": [
    "#### Euclidean classifier"
   ]
  },
  {
   "cell_type": "code",
   "execution_count": 88,
   "metadata": {},
   "outputs": [
    {
     "name": "stdout",
     "output_type": "stream",
     "text": [
      "Euclidean Accuracy: 33.3%\n"
     ]
    }
   ],
   "source": [
    "def euclideanClassifier(x_train, y_train, x_test, y_test):\n",
    "\n",
    "    x1 = x_train[y_train == 0]\n",
    "    x2 = x_train[y_train == 1]\n",
    "    x3 = x_train[y_train == 2]\n",
    "    means = np.array([np.mean(x1, 0), np.mean(x2, 0), np.mean(x3, 0)])\n",
    "    \n",
    "    dist1 = np.sqrt(np.sum(np.square(np.repeat([means[0]], repeats=np.shape(x_test)[0], axis=0))))\n",
    "    dist2 = np.sqrt(np.sum(np.square(np.repeat([means[1]], repeats=np.shape(x_test)[0], axis=0))))\n",
    "    dist3 = np.sqrt(np.sum(np.square(np.repeat([means[2]], repeats=np.shape(x_test)[0], axis=0))))\n",
    "    euclideanDistances = np.array([dist1, dist2, dist3])\n",
    "\n",
    "    predictions = np.where( euclideanDistances == np.min(euclideanDistances, 0))[0]\n",
    "    return predictions\n",
    "\n",
    "means = [\n",
    "    [0, 0, 0],\n",
    "    [1, 2, 2],\n",
    "    [3, 3, 4]\n",
    "    ]\n",
    "cov = [\n",
    "    [\n",
    "        [0.8, 0.2, 0.1],\n",
    "        [0.2, 0.8, 0.2],\n",
    "        [0.1, 0.2, 0.8]\n",
    "    ],\n",
    "    [\n",
    "        [0.6, 0.01, 0.01],\n",
    "        [0.01, 0.8, 0.01],\n",
    "        [0.01, 0.01, 0.6]\n",
    "    ],\n",
    "    [\n",
    "        [0.6, 0.1, 0.1],\n",
    "        [0.1, 0.6, 0.1],\n",
    "        [0.1, 0.1, 0.6]\n",
    "    ],\n",
    "]\n",
    "size = 1000\n",
    "x_train, y_train, x_test, y_test = generateData(means, cov, size)\n",
    "\n",
    "predictions = euclideanClassifier(x_train, y_train, x_test, y_test)\n",
    "error = calculateError(y_test, predictions)\n",
    "accuracy = 100 - error  \n",
    "\n",
    "print(f'Euclidean Accuracy: {accuracy}%')"
   ]
  },
  {
   "cell_type": "markdown",
   "metadata": {},
   "source": [
    "#### Mahalanobis classifier"
   ]
  },
  {
   "cell_type": "code",
   "execution_count": 84,
   "metadata": {},
   "outputs": [
    {
     "name": "stdout",
     "output_type": "stream",
     "text": [
      "Mahalanobis Accuracy: 99.6%\n"
     ]
    }
   ],
   "source": [
    "def mahalanobisClassifier(cov, x_train, y_train, x_test, y_test):\n",
    "    \n",
    "    x1 = x_train[y_train == 0]\n",
    "    x2 = x_train[y_train == 1]\n",
    "    x3 = x_train[y_train == 2]\n",
    "    means = np.array([np.mean(x1, 0), np.mean(x2, 0), np.mean(x3, 0)])\n",
    "\n",
    "    mahalanobisProbabilities = [[] for i in range(3)]\n",
    "        \n",
    "    for row in x_test:\n",
    "        for i in range(3):\n",
    "            xm = np.matrix(row - means[i])\n",
    "            md = float(xm * inv(cov[i]) * xm.T)\n",
    "            mahalanobisProbabilities[i].append(md)\n",
    "            \n",
    "    mahalanobisDistances = np.array(mahalanobisProbabilities)\n",
    "    predictions = np.where( mahalanobisDistances == np.min(mahalanobisDistances, 0))[0]\n",
    "    \n",
    "    return predictions\n",
    "    \n",
    "    \n",
    "means = [\n",
    "    [0, 0, 0],\n",
    "    [1, 2, 2],\n",
    "    [3, 3, 4]\n",
    "    ]\n",
    "cov = [\n",
    "    [\n",
    "        [0.8, 0.2, 0.1],\n",
    "        [0.2, 0.8, 0.2],\n",
    "        [0.1, 0.2, 0.8]\n",
    "    ],\n",
    "    [\n",
    "        [0.6, 0.01, 0.01],\n",
    "        [0.01, 0.8, 0.01],\n",
    "        [0.01, 0.01, 0.6]\n",
    "    ],\n",
    "    [\n",
    "        [0.6, 0.1, 0.1],\n",
    "        [0.1, 0.6, 0.1],\n",
    "        [0.1, 0.1, 0.6]\n",
    "    ],\n",
    "]\n",
    "size = 1000\n",
    "x_train, y_train, x_test, y_test = generateData(means, cov, size)\n",
    "\n",
    "predictions = mahalanobisClassifier(cov, x_train, y_train, x_test, y_test)\n",
    "\n",
    "error = calculateError(y_test, predictions)\n",
    "accuracy = 100 - error  \n",
    "print(f'Mahalanobis Accuracy: {accuracy}%')"
   ]
  },
  {
   "cell_type": "markdown",
   "metadata": {},
   "source": [
    "#### Bayesian classifier"
   ]
  },
  {
   "cell_type": "code",
   "execution_count": 83,
   "metadata": {},
   "outputs": [
    {
     "name": "stdout",
     "output_type": "stream",
     "text": [
      "Bayesian Accuracy: 98.6%\n"
     ]
    }
   ],
   "source": [
    "from numpy.linalg import det\n",
    "\n",
    "def bayesianClassifier(cov, x_train, y_train, x_test, y_test):\n",
    "    \n",
    "    x1 = x_train[y_train == 0]\n",
    "    x2 = x_train[y_train == 1]\n",
    "    x3 = x_train[y_train == 2]\n",
    "    means = np.array([np.mean(x1, 0), np.mean(x2, 0), np.mean(x3, 0)])\n",
    "\n",
    "    bayesianProbabilities = [[] for i in range(3)]\n",
    "\n",
    "    for row in x_test:\n",
    "        for i in range(3):\n",
    "            xm = np.matrix(row-means[i])\n",
    "            md = -1/2 * float(xm * inv(cov[i]) * xm.T)\n",
    "            D =  np.power(2*np.pi, means[i].shape[0]/2) * np.power(det(cov[i]),1/2)\n",
    "            P = 1/D * np.exp(md)\n",
    "            bayesianProbabilities[i].append(P)\n",
    "            \n",
    "    bayesianProbabilities = np.array(bayesianProbabilities)\n",
    "    predictions = np.where( bayesianProbabilities == np.max(bayesianProbabilities, 0))[0]\n",
    "    \n",
    "    return predictions\n",
    "    \n",
    "means = [\n",
    "    [0, 0, 0],\n",
    "    [1, 2, 2],\n",
    "    [3, 3, 4]\n",
    "    ]\n",
    "cov = [\n",
    "    [\n",
    "        [0.8, 0.2, 0.1],\n",
    "        [0.2, 0.8, 0.2],\n",
    "        [0.1, 0.2, 0.8]\n",
    "    ],\n",
    "    [\n",
    "        [0.6, 0.01, 0.01],\n",
    "        [0.01, 0.8, 0.01],\n",
    "        [0.01, 0.01, 0.6]\n",
    "    ],\n",
    "    [\n",
    "        [0.6, 0.1, 0.1],\n",
    "        [0.1, 0.6, 0.1],\n",
    "        [0.1, 0.1, 0.6]\n",
    "    ],\n",
    "]\n",
    "size = 1000\n",
    "x_train, y_train, x_test, y_test = generateData(means, cov, size)\n",
    "\n",
    "predictions = bayesianClassifier(cov, x_train, y_train, x_test, y_test)\n",
    "\n",
    "error = calculateError(y_test, predictions)\n",
    "accuracy = 100 - error  \n",
    "print(f'Bayesian Accuracy: {accuracy}%')"
   ]
  },
  {
   "cell_type": "code",
   "execution_count": null,
   "metadata": {},
   "outputs": [],
   "source": []
  }
 ],
 "metadata": {
  "kernelspec": {
   "display_name": "Python 3",
   "language": "python",
   "name": "python3"
  },
  "language_info": {
   "codemirror_mode": {
    "name": "ipython",
    "version": 3
   },
   "file_extension": ".py",
   "mimetype": "text/x-python",
   "name": "python",
   "nbconvert_exporter": "python",
   "pygments_lexer": "ipython3",
   "version": "3.7.4"
  }
 },
 "nbformat": 4,
 "nbformat_minor": 2
}
