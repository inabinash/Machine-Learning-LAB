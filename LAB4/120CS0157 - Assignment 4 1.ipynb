{
 "cells": [
  {
   "cell_type": "markdown",
   "metadata": {},
   "source": [
    "#### 1.  Considering the hour-marks dataset, design a linear regression model that can effectively predict marks for a given hours of studying."
   ]
  },
  {
   "cell_type": "code",
   "execution_count": 61,
   "metadata": {},
   "outputs": [],
   "source": [
    "from math import *\n",
    "import numpy as np\n",
    "import pandas as pd\n",
    "import matplotlib.pyplot as plt\n",
    "from sklearn.model_selection import train_test_split"
   ]
  },
  {
   "cell_type": "code",
   "execution_count": 62,
   "metadata": {},
   "outputs": [
    {
     "data": {
      "text/html": [
       "<div>\n",
       "<style scoped>\n",
       "    .dataframe tbody tr th:only-of-type {\n",
       "        vertical-align: middle;\n",
       "    }\n",
       "\n",
       "    .dataframe tbody tr th {\n",
       "        vertical-align: top;\n",
       "    }\n",
       "\n",
       "    .dataframe thead th {\n",
       "        text-align: right;\n",
       "    }\n",
       "</style>\n",
       "<table border=\"1\" class=\"dataframe\">\n",
       "  <thead>\n",
       "    <tr style=\"text-align: right;\">\n",
       "      <th></th>\n",
       "      <th>Hours Spent Studying</th>\n",
       "      <th>SAT Score</th>\n",
       "    </tr>\n",
       "  </thead>\n",
       "  <tbody>\n",
       "    <tr>\n",
       "      <td>0</td>\n",
       "      <td>4</td>\n",
       "      <td>390</td>\n",
       "    </tr>\n",
       "    <tr>\n",
       "      <td>1</td>\n",
       "      <td>9</td>\n",
       "      <td>580</td>\n",
       "    </tr>\n",
       "    <tr>\n",
       "      <td>2</td>\n",
       "      <td>10</td>\n",
       "      <td>650</td>\n",
       "    </tr>\n",
       "    <tr>\n",
       "      <td>3</td>\n",
       "      <td>14</td>\n",
       "      <td>730</td>\n",
       "    </tr>\n",
       "    <tr>\n",
       "      <td>4</td>\n",
       "      <td>4</td>\n",
       "      <td>410</td>\n",
       "    </tr>\n",
       "  </tbody>\n",
       "</table>\n",
       "</div>"
      ],
      "text/plain": [
       "   Hours Spent Studying  SAT Score\n",
       "0                     4        390\n",
       "1                     9        580\n",
       "2                    10        650\n",
       "3                    14        730\n",
       "4                     4        410"
      ]
     },
     "execution_count": 62,
     "metadata": {},
     "output_type": "execute_result"
    }
   ],
   "source": [
    "marks = pd.read_csv(\"marks.csv\")\n",
    "marks.head()"
   ]
  },
  {
   "cell_type": "code",
   "execution_count": 158,
   "metadata": {},
   "outputs": [],
   "source": [
    "class MarksLinearRegression:\n",
    "    def __init__(self, marks):\n",
    "        self.X = marks['Hours Spent Studying']\n",
    "        self.Y = marks['SAT Score']\n",
    "        \n",
    "        # splitting into train and test\n",
    "        self.X_train, self.X_test, self.Y_train, self.Y_test = train_test_split(self.X, self.Y, test_size = 0.2)\n",
    "        \n",
    "        # coefficients\n",
    "        self.B1 = 0\n",
    "        self.B0 = 0\n",
    "    \n",
    "    def fit(self):\n",
    "        \n",
    "        # finding mean\n",
    "        x_bar = np.mean(self.X_train)\n",
    "        y_bar = np.mean(self.Y_train)\n",
    "        \n",
    "        cov = 0\n",
    "        var = 0\n",
    "        \n",
    "        # finding covariance\n",
    "        for x, y in zip(self.X_train, self.Y_train):\n",
    "            cov += (x - x_bar)*(y - y_bar)\n",
    "        \n",
    "        # finding variance of x\n",
    "        for x in self.X_train:\n",
    "            var += (x - x_bar)*(x - x_bar)\n",
    "            \n",
    "        self.B1 = cov/var\n",
    "        self.B0 = y_bar - (self.B1*x_bar)\n",
    "    \n",
    "    def predict(self):\n",
    "        predictions = []\n",
    "        \n",
    "        for x in self.X_test:\n",
    "            predictions.append(self.B1*x + self.B0)\n",
    "            \n",
    "        return predictions\n",
    "    \n",
    "    def plot(self):\n",
    "        predictions = self.predict()\n",
    "\n",
    "        plt.plot(self.X_test, predictions)\n",
    "        plt.scatter(self.X_test, self.Y_test, color = \"green\")\n",
    "    \n",
    "    def evaluate(self):\n",
    "        sst = 0\n",
    "        ssr = 0\n",
    "        sse = 0\n",
    "        \n",
    "        y_bar = np.mean(self.Y_test)\n",
    "        \n",
    "        predictions = self.predict()\n",
    "        \n",
    "        for y in predictions:\n",
    "            ssr += (y - y_bar)*(y - y_bar)\n",
    "        \n",
    "        i = 0\n",
    "        for y in self.Y_test:\n",
    "            sse += (y - predictions[i])*(y - predictions[i])\n",
    "            i += 1\n",
    "            \n",
    "        for y in self.Y_test:\n",
    "            sst += (y - y_bar)*(y - y_bar)\n",
    "            \n",
    "        print(\"SST: \", sst)\n",
    "        print(\"SSR+SSE: \", ssr+sse)\n",
    "        \n",
    "        r2 = ssr/(ssr + sse)\n",
    "        return r2"
   ]
  },
  {
   "cell_type": "code",
   "execution_count": 159,
   "metadata": {},
   "outputs": [
    {
     "name": "stdout",
     "output_type": "stream",
     "text": [
      "SST:  63300.0\n",
      "SSR+SSE:  38551.59617032998\n",
      "\n",
      "Value of R^2:  0.8609604694104762\n"
     ]
    },
    {
     "data": {
      "image/png": "[encoded data removed]",
      "text/plain": [
       "<Figure size 432x288 with 1 Axes>"
      ]
     },
     "metadata": {
      "needs_background": "light"
     },
     "output_type": "display_data"
    }
   ],
   "source": [
    "marksModel = MarksLinearRegression(marks)\n",
    "marksModel.fit()\n",
    "marksModel.plot()\n",
    "\n",
    "print(\"\\nValue of R^2: \", marksModel.evaluate())"
   ]
  },
  {
   "cell_type": "markdown",
   "metadata": {},
   "source": [
    "#### 2. Considering the Boston Housing dataset, design a linear regression model considering each feature with non zero values, and report the best feature and model according to the R2metric."
   ]
  },
  {
   "cell_type": "code",
   "execution_count": 54,
   "metadata": {},
   "outputs": [
    {
     "data": {
      "text/html": [
       "<div>\n",
       "<style scoped>\n",
       "    .dataframe tbody tr th:only-of-type {\n",
       "        vertical-align: middle;\n",
       "    }\n",
       "\n",
       "    .dataframe tbody tr th {\n",
       "        vertical-align: top;\n",
       "    }\n",
       "\n",
       "    .dataframe thead th {\n",
       "        text-align: right;\n",
       "    }\n",
       "</style>\n",
       "<table border=\"1\" class=\"dataframe\">\n",
       "  <thead>\n",
       "    <tr style=\"text-align: right;\">\n",
       "      <th></th>\n",
       "      <th>CRIM</th>\n",
       "      <th>ZN</th>\n",
       "      <th>INDUS</th>\n",
       "      <th>CHAS</th>\n",
       "      <th>NOX</th>\n",
       "      <th>RM</th>\n",
       "      <th>AGE</th>\n",
       "      <th>DIS</th>\n",
       "      <th>RAD</th>\n",
       "      <th>TAX</th>\n",
       "      <th>PTRATIO</th>\n",
       "      <th>B</th>\n",
       "      <th>LSTAT</th>\n",
       "      <th>PRICE</th>\n",
       "    </tr>\n",
       "  </thead>\n",
       "  <tbody>\n",
       "    <tr>\n",
       "      <td>0</td>\n",
       "      <td>0.00632</td>\n",
       "      <td>18.0</td>\n",
       "      <td>2.31</td>\n",
       "      <td>0</td>\n",
       "      <td>0.538</td>\n",
       "      <td>6.575</td>\n",
       "      <td>65.2</td>\n",
       "      <td>4.0900</td>\n",
       "      <td>1</td>\n",
       "      <td>296</td>\n",
       "      <td>15.3</td>\n",
       "      <td>396.90</td>\n",
       "      <td>4.98</td>\n",
       "      <td>24.0</td>\n",
       "    </tr>\n",
       "    <tr>\n",
       "      <td>1</td>\n",
       "      <td>0.02731</td>\n",
       "      <td>0.0</td>\n",
       "      <td>7.07</td>\n",
       "      <td>0</td>\n",
       "      <td>0.469</td>\n",
       "      <td>6.421</td>\n",
       "      <td>78.9</td>\n",
       "      <td>4.9671</td>\n",
       "      <td>2</td>\n",
       "      <td>242</td>\n",
       "      <td>17.8</td>\n",
       "      <td>396.90</td>\n",
       "      <td>9.14</td>\n",
       "      <td>21.6</td>\n",
       "    </tr>\n",
       "    <tr>\n",
       "      <td>2</td>\n",
       "      <td>0.02729</td>\n",
       "      <td>0.0</td>\n",
       "      <td>7.07</td>\n",
       "      <td>0</td>\n",
       "      <td>0.469</td>\n",
       "      <td>7.185</td>\n",
       "      <td>61.1</td>\n",
       "      <td>4.9671</td>\n",
       "      <td>2</td>\n",
       "      <td>242</td>\n",
       "      <td>17.8</td>\n",
       "      <td>392.83</td>\n",
       "      <td>4.03</td>\n",
       "      <td>34.7</td>\n",
       "    </tr>\n",
       "    <tr>\n",
       "      <td>3</td>\n",
       "      <td>0.03237</td>\n",
       "      <td>0.0</td>\n",
       "      <td>2.18</td>\n",
       "      <td>0</td>\n",
       "      <td>0.458</td>\n",
       "      <td>6.998</td>\n",
       "      <td>45.8</td>\n",
       "      <td>6.0622</td>\n",
       "      <td>3</td>\n",
       "      <td>222</td>\n",
       "      <td>18.7</td>\n",
       "      <td>394.63</td>\n",
       "      <td>2.94</td>\n",
       "      <td>33.4</td>\n",
       "    </tr>\n",
       "    <tr>\n",
       "      <td>4</td>\n",
       "      <td>0.06905</td>\n",
       "      <td>0.0</td>\n",
       "      <td>2.18</td>\n",
       "      <td>0</td>\n",
       "      <td>0.458</td>\n",
       "      <td>7.147</td>\n",
       "      <td>54.2</td>\n",
       "      <td>6.0622</td>\n",
       "      <td>3</td>\n",
       "      <td>222</td>\n",
       "      <td>18.7</td>\n",
       "      <td>396.90</td>\n",
       "      <td>5.33</td>\n",
       "      <td>36.2</td>\n",
       "    </tr>\n",
       "  </tbody>\n",
       "</table>\n",
       "</div>"
      ],
      "text/plain": [
       "      CRIM    ZN  INDUS  CHAS    NOX     RM   AGE     DIS  RAD  TAX  PTRATIO  \\\n",
       "0  0.00632  18.0   2.31     0  0.538  6.575  65.2  4.0900    1  296     15.3   \n",
       "1  0.02731   0.0   7.07     0  0.469  6.421  78.9  4.9671    2  242     17.8   \n",
       "2  0.02729   0.0   7.07     0  0.469  7.185  61.1  4.9671    2  242     17.8   \n",
       "3  0.03237   0.0   2.18     0  0.458  6.998  45.8  6.0622    3  222     18.7   \n",
       "4  0.06905   0.0   2.18     0  0.458  7.147  54.2  6.0622    3  222     18.7   \n",
       "\n",
       "        B  LSTAT  PRICE  \n",
       "0  396.90   4.98   24.0  \n",
       "1  396.90   9.14   21.6  \n",
       "2  392.83   4.03   34.7  \n",
       "3  394.63   2.94   33.4  \n",
       "4  396.90   5.33   36.2  "
      ]
     },
     "execution_count": 54,
     "metadata": {},
     "output_type": "execute_result"
    }
   ],
   "source": [
    "housing = pd.read_csv(\"BostonHousing.csv\")\n",
    "housing.head()"
   ]
  },
  {
   "cell_type": "code",
   "execution_count": 160,
   "metadata": {},
   "outputs": [],
   "source": [
    "class HousingLinearRegression:\n",
    "    def __init__(self, data, feature):\n",
    "        self.X = data[feature]\n",
    "        self.Y = data['PRICE']\n",
    "        \n",
    "        # splitting into train and test\n",
    "        self.X_train, self.X_test, self.Y_train, self.Y_test = train_test_split(self.X, self.Y, test_size = 0.2)\n",
    "        \n",
    "        # coefficients\n",
    "        self.B1 = 0\n",
    "        self.B0 = 0\n",
    "        \n",
    "        # current feature\n",
    "        self.feature = feature\n",
    "    \n",
    "    def fit(self):\n",
    "        \n",
    "        # finding mean\n",
    "        x_bar = np.mean(self.X_train)\n",
    "        y_bar = np.mean(self.Y_train)\n",
    "        \n",
    "        cov = 0\n",
    "        var = 0\n",
    "        \n",
    "        # finding covariance\n",
    "        for x, y in zip(self.X_train, self.Y_train):\n",
    "            cov += (x - x_bar)*(y - y_bar)\n",
    "        \n",
    "        # finding variance of x\n",
    "        for x in self.X_train:\n",
    "            var += (x - x_bar)*(x - x_bar)\n",
    "            \n",
    "        self.B1 = cov/var\n",
    "        self.B0 = y_bar - (self.B1*x_bar)\n",
    "    \n",
    "    def predict(self):\n",
    "        predictions = []\n",
    "        \n",
    "        for x in self.X_test:\n",
    "            predictions.append(self.B1*x + self.B0)\n",
    "            \n",
    "        return predictions\n",
    "    \n",
    "    def plot(self):\n",
    "        predictions = self.predict()\n",
    "\n",
    "        plt.plot(self.X_test, predictions)\n",
    "        plt.scatter(self.X_test, self.Y_test, color = \"green\")\n",
    "        plt.xlabel(self.feature)\n",
    "        plt.ylabel('PRICE')\n",
    "        plt.show()\n",
    "    \n",
    "    def evaluate(self):\n",
    "        sst = 0\n",
    "        ssr = 0\n",
    "        sse = 0\n",
    "        \n",
    "        y_bar = np.mean(self.Y_test)\n",
    "        \n",
    "        predictions = self.predict()\n",
    "        \n",
    "        for y in predictions:\n",
    "            ssr += (y - y_bar)*(y - y_bar)\n",
    "        \n",
    "        i = 0\n",
    "        for y in self.Y_test:\n",
    "            sse += (y - predictions[i])*(y - predictions[i])\n",
    "            i += 1\n",
    "            \n",
    "        for y in self.Y_test:\n",
    "            sst += (y - y_bar)*(y - y_bar)\n",
    "            \n",
    "        print(\"SST: \", sst)\n",
    "        print(\"SSR+SSE: \", ssr+sse)\n",
    "        \n",
    "        r2 = ssr/(ssr + sse)\n",
    "        \n",
    "        return r2"
   ]
  },
  {
   "cell_type": "code",
   "execution_count": 161,
   "metadata": {},
   "outputs": [
    {
     "data": {
      "text/plain": [
       "506"
      ]
     },
     "execution_count": 161,
     "metadata": {},
     "output_type": "execute_result"
    }
   ],
   "source": [
    "len(housing)"
   ]
  },
  {
   "cell_type": "code",
   "execution_count": 164,
   "metadata": {},
   "outputs": [
    {
     "data": {
      "image/png": "[encoded data removed]",
      "text/plain": [
       "<Figure size 432x288 with 1 Axes>"
      ]
     },
     "metadata": {
      "needs_background": "light"
     },
     "output_type": "display_data"
    },
    {
     "name": "stdout",
     "output_type": "stream",
     "text": [
      "SST:  9163.349117647062\n",
      "SSR+SSE:  11545.564057689873\n",
      "Value of R^2 for feature CRIM  =  0.22070523428196145\n"
     ]
    },
    {
     "data": {
      "image/png": "[encoded data removed]",
      "text/plain": [
       "<Figure size 432x288 with 1 Axes>"
      ]
     },
     "metadata": {
      "needs_background": "light"
     },
     "output_type": "display_data"
    },
    {
     "name": "stdout",
     "output_type": "stream",
     "text": [
      "SST:  8560.679607843138\n",
      "SSR+SSE:  7560.4818908523785\n",
      "Value of R^2 for feature INDUS  =  0.2203366319979328\n"
     ]
    },
    {
     "data": {
      "image/png": "[encoded data removed]",
      "text/plain": [
       "<Figure size 432x288 with 1 Axes>"
      ]
     },
     "metadata": {
      "needs_background": "light"
     },
     "output_type": "display_data"
    },
    {
     "name": "stdout",
     "output_type": "stream",
     "text": [
      "SST:  6954.372941176469\n",
      "SSR+SSE:  7949.92293595939\n",
      "Value of R^2 for feature NOX  =  0.27575752964281175\n"
     ]
    },
    {
     "data": {
      "image/png": "[encoded data removed]",
      "text/plain": [
       "<Figure size 432x288 with 1 Axes>"
      ]
     },
     "metadata": {
      "needs_background": "light"
     },
     "output_type": "display_data"
    },
    {
     "name": "stdout",
     "output_type": "stream",
     "text": [
      "SST:  7822.282058823529\n",
      "SSR+SSE:  10866.809022931144\n",
      "Value of R^2 for feature RM  =  0.48548949243287154\n"
     ]
    },
    {
     "data": {
      "image/png": "[encoded data removed]",
      "text/plain": [
       "<Figure size 432x288 with 1 Axes>"
      ]
     },
     "metadata": {
      "needs_background": "light"
     },
     "output_type": "display_data"
    },
    {
     "name": "stdout",
     "output_type": "stream",
     "text": [
      "SST:  9199.882058823528\n",
      "SSR+SSE:  10332.923869070699\n",
      "Value of R^2 for feature AGE  =  0.1283480410908556\n"
     ]
    },
    {
     "data": {
      "image/png": "[encoded data removed]",
      "text/plain": [
       "<Figure size 432x288 with 1 Axes>"
      ]
     },
     "metadata": {
      "needs_background": "light"
     },
     "output_type": "display_data"
    },
    {
     "name": "stdout",
     "output_type": "stream",
     "text": [
      "SST:  7128.254117647058\n",
      "SSR+SSE:  7896.94991284551\n",
      "Value of R^2 for feature DIS  =  0.09716356322710672\n"
     ]
    },
    {
     "data": {
      "image/png": "[encoded data removed]",
      "text/plain": [
       "<Figure size 432x288 with 1 Axes>"
      ]
     },
     "metadata": {
      "needs_background": "light"
     },
     "output_type": "display_data"
    },
    {
     "name": "stdout",
     "output_type": "stream",
     "text": [
      "SST:  9059.07176470588\n",
      "SSR+SSE:  8578.608716872372\n",
      "Value of R^2 for feature TAX  =  0.24165828281476975\n"
     ]
    },
    {
     "data": {
      "image/png": "[encoded data removed]",
      "text/plain": [
       "<Figure size 432x288 with 1 Axes>"
      ]
     },
     "metadata": {
      "needs_background": "light"
     },
     "output_type": "display_data"
    },
    {
     "name": "stdout",
     "output_type": "stream",
     "text": [
      "SST:  8971.294117647061\n",
      "SSR+SSE:  7622.020882934175\n",
      "Value of R^2 for feature PTRATIO  =  0.30489863332726264\n"
     ]
    },
    {
     "data": {
      "image/png": "[encoded data removed]",
      "text/plain": [
       "<Figure size 432x288 with 1 Axes>"
      ]
     },
     "metadata": {
      "needs_background": "light"
     },
     "output_type": "display_data"
    },
    {
     "name": "stdout",
     "output_type": "stream",
     "text": [
      "SST:  7436.610196078432\n",
      "SSR+SSE:  7933.839636908357\n",
      "Value of R^2 for feature B  =  0.1388788450193008\n"
     ]
    },
    {
     "data": {
      "image/png": "[encoded data removed]",
      "text/plain": [
       "<Figure size 432x288 with 1 Axes>"
      ]
     },
     "metadata": {
      "needs_background": "light"
     },
     "output_type": "display_data"
    },
    {
     "name": "stdout",
     "output_type": "stream",
     "text": [
      "SST:  9198.82705882353\n",
      "SSR+SSE:  8804.435675615394\n",
      "Value of R^2 for feature LSTAT  =  0.576057334579403\n",
      "\n",
      "Best feature:  LSTAT with R2 metric:  0.576057334579403\n"
     ]
    }
   ],
   "source": [
    "features = list()\n",
    "# checking for non zero features\n",
    "for col in housing.columns:\n",
    "    if(len(housing[housing[col] != 0]) > 400):\n",
    "        features.append(col)\n",
    "        \n",
    "features.remove('RAD')\n",
    "\n",
    "# removing dependent attribute\n",
    "features.remove('PRICE')\n",
    "\n",
    "# finding best feature\n",
    "feature = None\n",
    "best_r2 = 0\n",
    "for f in features:\n",
    "    housingModel = HousingLinearRegression(housing, f)\n",
    "    housingModel.fit()\n",
    "    housingModel.plot()\n",
    "    \n",
    "    r2 = housingModel.evaluate()\n",
    "    print(\"Value of R^2 for feature\", f, \" = \", r2)\n",
    "    if r2 > best_r2:\n",
    "        best_r2 = r2\n",
    "        feature = f\n",
    "        \n",
    "print(\"\\nBest feature: \", feature, \"with R2 metric: \", best_r2)"
   ]
  },
  {
   "cell_type": "code",
   "execution_count": null,
   "metadata": {},
   "outputs": [],
   "source": []
  }
 ],
 "metadata": {
  "kernelspec": {
   "display_name": "Python 3",
   "language": "python",
   "name": "python3"
  },
  "language_info": {
   "codemirror_mode": {
    "name": "ipython",
    "version": 3
   },
   "file_extension": ".py",
   "mimetype": "text/x-python",
   "name": "python",
   "nbconvert_exporter": "python",
   "pygments_lexer": "ipython3",
   "version": "3.7.4"
  }
 },
 "nbformat": 4,
 "nbformat_minor": 2
}
